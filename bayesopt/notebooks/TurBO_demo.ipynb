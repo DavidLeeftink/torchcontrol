{
 "cells": [
  {
   "cell_type": "code",
   "execution_count": 1,
   "metadata": {},
   "outputs": [
    {
     "name": "stderr",
     "output_type": "stream",
     "text": [
      "/Library/Frameworks/Python.framework/Versions/3.11/lib/python3.11/site-packages/tqdm/auto.py:21: TqdmWarning: IProgress not found. Please update jupyter and ipywidgets. See https://ipywidgets.readthedocs.io/en/stable/user_install.html\n",
      "  from .autonotebook import tqdm as notebook_tqdm\n"
     ]
    }
   ],
   "source": [
    "import os\n",
    "import math\n",
    "from dataclasses import dataclass\n",
    "\n",
    "import torch\n",
    "from botorch.acquisition import qExpectedImprovement\n",
    "from botorch.fit import fit_gpytorch_mll\n",
    "from botorch.generation import MaxPosteriorSampling\n",
    "from botorch.models import SingleTaskGP, MixedSingleTaskGP\n",
    "from botorch.optim import optimize_acqf\n",
    "from botorch.test_functions import Ackley\n",
    "from botorch.utils.transforms import unnormalize\n",
    "from torch.quasirandom import SobolEngine\n",
    "\n",
    "import gpytorch\n",
    "from gpytorch.constraints import Interval\n",
    "from gpytorch.kernels import MaternKernel, ScaleKernel\n",
    "from gpytorch.likelihoods import GaussianLikelihood\n",
    "from gpytorch.mlls import ExactMarginalLogLikelihood\n",
    "from gpytorch.priors import HorseshoePrior\n",
    "\n",
    "import numpy as np\n",
    "import matplotlib.pyplot as plt\n",
    "\n",
    "device = torch.device(\"cuda\" if torch.cuda.is_available() else \"cpu\")\n",
    "dtype = torch.double\n",
    "SMOKE_TEST = os.environ.get(\"SMOKE_TEST\")"
   ]
  },
  {
   "cell_type": "code",
   "execution_count": 33,
   "metadata": {},
   "outputs": [],
   "source": [
    "fun = Ackley(dim=11, negate=True).to(dtype=dtype, device=device)\n",
    "fun.bounds[0, :].fill_(-5)\n",
    "fun.bounds[1, :].fill_(10)\n",
    "dim = fun.dim\n",
    "lb, ub = fun.bounds\n",
    "\n",
    "batch_size = 8\n",
    "n_init = 10\n",
    "max_cholesky_size = float(\"inf\")  # Always use Cholesky\n",
    "\n",
    "\n",
    "def eval_objective(x):\n",
    "    \"\"\"This is a helper function we use to unnormalize and evalaute a point\"\"\"\n",
    "    return fun(unnormalize(x, fun.bounds))"
   ]
  },
  {
   "cell_type": "code",
   "execution_count": 34,
   "metadata": {},
   "outputs": [
    {
     "data": {
      "text/plain": [
       "(11,\n",
       " tensor([-5., -5., -5., -5., -5., -5., -5., -5., -5., -5., -5.],\n",
       "        dtype=torch.float64),\n",
       " tensor([10., 10., 10., 10., 10., 10., 10., 10., 10., 10., 10.],\n",
       "        dtype=torch.float64))"
      ]
     },
     "execution_count": 34,
     "metadata": {},
     "output_type": "execute_result"
    }
   ],
   "source": [
    "dim, lb, ub"
   ]
  },
  {
   "cell_type": "code",
   "execution_count": 35,
   "metadata": {},
   "outputs": [],
   "source": [
    "@dataclass\n",
    "class TurboState:\n",
    "    dim: int\n",
    "    batch_size: int\n",
    "    length: float = 0.8 # 0.4\n",
    "    length_min: float = 0.5**7\n",
    "    length_max: float = 1.6 # 2.6\n",
    "    failure_counter: int = 0\n",
    "    failure_tolerance: int = float(\"nan\")  # Note: Post-initialized\n",
    "    success_counter: int = 0\n",
    "    success_tolerance: int = 10 # 10  # Note: The original paper uses 3\n",
    "    best_value: float = -float(\"inf\")\n",
    "    restart_triggered: bool = False\n",
    "\n",
    "    def __post_init__(self):\n",
    "        self.failure_tolerance = math.ceil(\n",
    "            max([4.0 / self.batch_size, float(self.dim) / self.batch_size])\n",
    "        )\n",
    "\n",
    "\n",
    "def update_state(state, Y_next):\n",
    "    if max(Y_next) > state.best_value + 1e-3 * math.fabs(state.best_value):\n",
    "        state.success_counter += 1\n",
    "        state.failure_counter = 0\n",
    "    else:\n",
    "        state.success_counter = 0\n",
    "        state.failure_counter += 1\n",
    "\n",
    "    if state.success_counter == state.success_tolerance:  # Expand trust region\n",
    "        state.length = min(2.0 * state.length, state.length_max)\n",
    "        state.success_counter = 0\n",
    "    elif state.failure_counter == state.failure_tolerance:  # Shrink trust region\n",
    "        state.length /= 2.0\n",
    "        state.failure_counter = 0\n",
    "\n",
    "    state.best_value = max(state.best_value, max(Y_next).item())\n",
    "    if state.length < state.length_min:\n",
    "        state.restart_triggered = True\n",
    "    return state"
   ]
  },
  {
   "cell_type": "code",
   "execution_count": 36,
   "metadata": {},
   "outputs": [
    {
     "name": "stdout",
     "output_type": "stream",
     "text": [
      "TurboState(dim=11, batch_size=8, length=0.8, length_min=0.0078125, length_max=1.6, failure_counter=0, failure_tolerance=2, success_counter=0, success_tolerance=10, best_value=-inf, restart_triggered=False)\n"
     ]
    }
   ],
   "source": [
    "state = TurboState(dim=dim, batch_size=batch_size)\n",
    "print(state)"
   ]
  },
  {
   "cell_type": "code",
   "execution_count": 37,
   "metadata": {},
   "outputs": [],
   "source": [
    "def get_initial_points(dim, n_pts, seed=0):\n",
    "    sobol = SobolEngine(dimension=dim, scramble=True, seed=seed)\n",
    "    X_init = sobol.draw(n=n_pts).to(dtype=dtype, device=device)\n",
    "    return X_init\n"
   ]
  },
  {
   "cell_type": "code",
   "execution_count": 38,
   "metadata": {},
   "outputs": [],
   "source": [
    "def generate_batch(\n",
    "    state,\n",
    "    model,  # GP model\n",
    "    X,  # Evaluated points on the domain [0, 1]^d\n",
    "    Y,  # Function values\n",
    "    batch_size,\n",
    "    n_candidates=None,  # Number of candidates for Thompson sampling\n",
    "    num_restarts=10,\n",
    "    raw_samples=512,\n",
    "    acqf=\"ts\",  # \"ei\" or \"ts\"\n",
    "):\n",
    "    assert acqf in (\"ts\", \"ei\")\n",
    "    assert X.min() >= 0.0 and X.max() <= 1.0 and torch.all(torch.isfinite(Y))\n",
    "    if n_candidates is None:\n",
    "        n_candidates = min(10000, max(2000, 200 * X.shape[-1]))\n",
    "\n",
    "    # Scale the TR to be proportional to the lengthscales\n",
    "    x_center = X[Y.argmax(), :].clone()\n",
    "    weights = model.covar_module.base_kernel.lengthscale.squeeze().detach()\n",
    "    weights = weights / weights.mean()\n",
    "    weights = weights / torch.prod(weights.pow(1.0 / len(weights)))\n",
    "    tr_lb = torch.clamp(x_center - weights * state.length / 2.0, 0.0, 1.0)\n",
    "    tr_ub = torch.clamp(x_center + weights * state.length / 2.0, 0.0, 1.0)\n",
    "\n",
    "    if acqf == \"ts\":\n",
    "        dim = X.shape[-1]\n",
    "        sobol = SobolEngine(dim, scramble=True)\n",
    "        pert = sobol.draw(n_candidates).to(dtype=dtype, device=device)\n",
    "        pert = tr_lb + (tr_ub - tr_lb) * pert\n",
    "\n",
    "        # Create a perturbation mask\n",
    "        prob_perturb = min(20.0 / dim, 1.0)\n",
    "        mask = torch.rand(n_candidates, dim, dtype=dtype, device=device) <= prob_perturb\n",
    "        ind = torch.where(mask.sum(dim=1) == 0)[0]\n",
    "        mask[ind, torch.randint(0, dim - 1, size=(len(ind),), device=device)] = 1\n",
    "\n",
    "        # Create candidate points from the perturbations and the mask\n",
    "        X_cand = x_center.expand(n_candidates, dim).clone()\n",
    "        X_cand[mask] = pert[mask]\n",
    "\n",
    "        # Sample on the candidate points\n",
    "        thompson_sampling = MaxPosteriorSampling(model=model, replacement=False)\n",
    "        with torch.no_grad():  # We don't need gradients when using TS\n",
    "            X_next = thompson_sampling(X_cand, num_samples=batch_size)\n",
    "\n",
    "    elif acqf == \"ei\":\n",
    "        ei = qExpectedImprovement(model, Y.max())\n",
    "        X_next, acq_value = optimize_acqf(\n",
    "            ei,\n",
    "            bounds=torch.stack([tr_lb, tr_ub]),\n",
    "            q=batch_size,\n",
    "            num_restarts=num_restarts,\n",
    "            raw_samples=raw_samples,\n",
    "        )\n",
    "\n",
    "    return X_next"
   ]
  },
  {
   "attachments": {},
   "cell_type": "markdown",
   "metadata": {},
   "source": [
    "### Expected Improveemnt (EI)"
   ]
  },
  {
   "cell_type": "code",
   "execution_count": 39,
   "metadata": {},
   "outputs": [],
   "source": [
    "\n",
    "# n_seeds = 10\n",
    "# for i in range(n_seeds):\n",
    "#     print(f'iteration {i+1}')\n",
    "#     torch.manual_seed(i)\n",
    "#     X_turbo = get_initial_points(dim, n_init)\n",
    "\n",
    "#     Y_turbo = torch.tensor(\n",
    "#         [eval_objective(x) for x in X_turbo], dtype=dtype, device=device\n",
    "#     ).unsqueeze(-1)\n",
    "\n",
    "#     state = TurboState(dim, batch_size=batch_size)\n",
    "\n",
    "#     NUM_RESTARTS = 10 if not SMOKE_TEST else 2\n",
    "#     RAW_SAMPLES = 512 if not SMOKE_TEST else 4\n",
    "#     N_CANDIDATES = min(6000, max(2000, 200 * dim)) if not SMOKE_TEST else 4\n",
    "\n",
    "\n",
    "#     best_scores = []\n",
    "\n",
    "#     while not state.restart_triggered:  # Run until TuRBO converges\n",
    "#         # Fit a GP model\n",
    "#         train_Y = (Y_turbo - Y_turbo.mean()) / Y_turbo.std()\n",
    "#         likelihood = GaussianLikelihood(noise_constraint=Interval(1e-8, 1e-0))\n",
    "#         covar_module = ScaleKernel(  # Use the same lengthscale prior as in the TuRBO paper\n",
    "#             MaternKernel(\n",
    "#                 nu=2.5, ard_num_dims=dim, lengthscale_constraint=Interval(0.005, 4.0)\n",
    "#             )\n",
    "#         )\n",
    "#         model = SingleTaskGP(\n",
    "#             X_turbo, train_Y, covar_module=covar_module, likelihood=likelihood\n",
    "#         )\n",
    "#         mll = ExactMarginalLogLikelihood(model.likelihood, model)\n",
    "\n",
    "#         # Do the fitting and acquisition function optimization inside the Cholesky context\n",
    "#         with gpytorch.settings.max_cholesky_size(max_cholesky_size):\n",
    "#             # Fit the model\n",
    "#             fit_gpytorch_mll(mll)\n",
    "\n",
    "#             # Create a batch\n",
    "#             X_next = generate_batch(\n",
    "#                 state=state,\n",
    "#                 model=model,\n",
    "#                 X=X_turbo,\n",
    "#                 Y=train_Y,\n",
    "#                 batch_size=batch_size,\n",
    "#                 n_candidates=N_CANDIDATES,\n",
    "#                 num_restarts=NUM_RESTARTS,\n",
    "#                 raw_samples=RAW_SAMPLES,\n",
    "#                 acqf=\"ei\",\n",
    "#             )\n",
    "\n",
    "#         Y_next = torch.tensor(\n",
    "#             [eval_objective(x) for x in X_next], dtype=dtype, device=device\n",
    "#         ).unsqueeze(-1)\n",
    "\n",
    "#         # Update state\n",
    "#         state = update_state(state=state, Y_next=Y_next)\n",
    "\n",
    "#         # Append data\n",
    "#         X_turbo = torch.cat((X_turbo, X_next), dim=0)\n",
    "#         Y_turbo = torch.cat((Y_turbo, Y_next), dim=0)\n",
    "\n",
    "#         # Print current status\n",
    "#         best_scores.append(state.best_value)\n",
    "#         # print(\n",
    "#         #     f\"{len(X_turbo)}) Best value: {state.best_value:.2e}, TR length: {state.length:.2e}\"\n",
    "#         # )\n",
    "\n",
    "#     best_scores = np.array(best_scores)\n",
    "#     plt.plot(range(best_scores.shape[0]), best_scores)\n",
    "#     plt.scatter(best_scores.shape[0], best_scores[-1], color='black')\n",
    "# plt.show()\n"
   ]
  },
  {
   "attachments": {},
   "cell_type": "markdown",
   "metadata": {},
   "source": [
    "### Thompson sampling"
   ]
  },
  {
   "cell_type": "code",
   "execution_count": 40,
   "metadata": {},
   "outputs": [
    {
     "name": "stdout",
     "output_type": "stream",
     "text": [
      "round 1\n",
      "Y dataset shape:  torch.Size([250, 1])\n",
      "round 2\n",
      "Y dataset shape:  torch.Size([250, 1])\n",
      "round 3\n",
      "Y dataset shape:  torch.Size([250, 1])\n",
      "round 4\n",
      "Y dataset shape:  torch.Size([250, 1])\n",
      "round 5\n",
      "Y dataset shape:  torch.Size([250, 1])\n",
      "round 6\n",
      "Y dataset shape:  torch.Size([250, 1])\n",
      "round 7\n",
      "Y dataset shape:  torch.Size([250, 1])\n",
      "round 8\n",
      "Y dataset shape:  torch.Size([250, 1])\n",
      "round 9\n",
      "Y dataset shape:  torch.Size([250, 1])\n",
      "round 10\n",
      "Y dataset shape:  torch.Size([250, 1])\n"
     ]
    },
    {
     "data": {
      "image/png": "[encoded data removed]",
      "text/plain": [
       "<Figure size 640x480 with 1 Axes>"
      ]
     },
     "metadata": {},
     "output_type": "display_data"
    }
   ],
   "source": [
    "import time\n",
    "current_time= time.time()\n",
    "n_seeds = 10\n",
    "all_scores = []\n",
    "for i in range(n_seeds):\n",
    "    print(f'round {i+1}')\n",
    "    torch.manual_seed(i)\n",
    "    current_time = time.time()\n",
    "    X_turbo = get_initial_points(dim, n_init)\n",
    "\n",
    "    Y_turbo = torch.tensor(\n",
    "        [eval_objective(x) for x in X_turbo], dtype=dtype, device=device\n",
    "    ).unsqueeze(-1)\n",
    "\n",
    "    state = TurboState(dim, batch_size=batch_size)\n",
    "\n",
    "    NUM_RESTARTS = 20 if not SMOKE_TEST else 2\n",
    "    RAW_SAMPLES = 512 if not SMOKE_TEST else 4\n",
    "    N_CANDIDATES = min(6000, max(4000, 200 * dim)) if not SMOKE_TEST else 4\n",
    "\n",
    "    best_scores = []\n",
    "\n",
    "    while Y_turbo.shape[0] < 250:# not state.restart_triggered:  # Run until TuRBO converges\n",
    "        # Fit a GP model\n",
    "        start_time = time.time()\n",
    "        train_Y = (Y_turbo - Y_turbo.mean()) / Y_turbo.std()\n",
    "        likelihood = GaussianLikelihood(noise_constraint=Interval(1e-8, 1e-0))\n",
    "        covar_module = ScaleKernel(  # Use the same lengthscale prior as in the TuRBO paper\n",
    "            MaternKernel(\n",
    "                nu=2.5, ard_num_dims=dim, lengthscale_constraint=Interval(0.005, 4.0)\n",
    "            )\n",
    "        )\n",
    "        model = SingleTaskGP(\n",
    "            X_turbo, train_Y, covar_module=covar_module, likelihood=likelihood\n",
    "        )\n",
    "        mll = ExactMarginalLogLikelihood(model.likelihood, model)\n",
    "\n",
    "        # Do the fitting and acquisition function optimization inside the Cholesky context\n",
    "        with gpytorch.settings.max_cholesky_size(max_cholesky_size):\n",
    "            # Fit the model\n",
    "            fit_gpytorch_mll(mll)\n",
    "\n",
    "            # Create a batch\n",
    "            X_next = generate_batch(\n",
    "                state=state,\n",
    "                model=model,\n",
    "                X=X_turbo,\n",
    "                Y=train_Y,\n",
    "                batch_size=batch_size,\n",
    "                n_candidates=N_CANDIDATES,\n",
    "                num_restarts=NUM_RESTARTS,\n",
    "                raw_samples=RAW_SAMPLES,\n",
    "                acqf=\"ts\",\n",
    "            )\n",
    "        # print(f'{time.time() - start_time}')\n",
    "\n",
    "        Y_next = torch.tensor(\n",
    "            [eval_objective(x) for x in X_next], dtype=dtype, device=device\n",
    "        ).unsqueeze(-1)\n",
    "\n",
    "        # Update state\n",
    "        state = update_state(state=state, Y_next=Y_next)\n",
    "\n",
    "        # Append data\n",
    "        X_turbo = torch.cat((X_turbo, X_next), dim=0)\n",
    "        Y_turbo = torch.cat((Y_turbo, Y_next), dim=0)\n",
    "\n",
    "        # Print current status\n",
    "        best_scores.append(state.best_value)\n",
    "        # print(\n",
    "        #     f\"{len(X_turbo)}) Best value: {state.best_value:.2e}, TR length: {state.length:.2e}\"\n",
    "        # )\n",
    "    best_scores = np.array(best_scores)    \n",
    "    all_scores.append(best_scores)\n",
    "    plt.plot(range(best_scores.shape[0]), best_scores)\n",
    "    plt.scatter(best_scores.shape[0], best_scores[-1], color='black')\n",
    "    print('Y dataset shape: ', Y_turbo.shape)\n",
    "plt.show()"
   ]
  },
  {
   "cell_type": "code",
   "execution_count": 41,
   "metadata": {},
   "outputs": [
    {
     "name": "stdout",
     "output_type": "stream",
     "text": [
      "(10, 30)\n"
     ]
    }
   ],
   "source": [
    "# all_scores1 = np.array(all_scores)\n",
    "# print(all_scores1.shape)\n",
    "# all_scores_mean1 = np.mean(all_scores1, axis=0)\n",
    "# all_scores2 = np.array(all_scores)\n",
    "# print(all_scores2.shape)\n",
    "# all_scores_mean2 = np.mean(all_scores2, axis=0)\n",
    "\n",
    "# all_scores4 = np.array(all_scores)\n",
    "# print(all_scores4.shape)\n",
    "# all_scores_mean4 = np.mean(all_scores4, axis=0)\n",
    "\n",
    "all_scores8 = np.array(all_scores)\n",
    "print(all_scores8.shape)\n",
    "all_scores_mean8 = np.mean(all_scores8, axis=0)\n"
   ]
  },
  {
   "cell_type": "code",
   "execution_count": 1,
   "metadata": {},
   "outputs": [
    {
     "ename": "NameError",
     "evalue": "name 'plt' is not defined",
     "output_type": "error",
     "traceback": [
      "\u001b[0;31m---------------------------------------------------------------------------\u001b[0m",
      "\u001b[0;31mNameError\u001b[0m                                 Traceback (most recent call last)",
      "Cell \u001b[0;32mIn[1], line 1\u001b[0m\n\u001b[0;32m----> 1\u001b[0m plt\u001b[39m.\u001b[39mplot(np\u001b[39m.\u001b[39marange(\u001b[39m250\u001b[39m\u001b[39m-\u001b[39mn_init), all_scores_mean1, label\u001b[39m=\u001b[39m\u001b[39m'\u001b[39m\u001b[39m1 parallel evaluation\u001b[39m\u001b[39m'\u001b[39m)\n\u001b[1;32m      2\u001b[0m plt\u001b[39m.\u001b[39mplot(\u001b[39m2\u001b[39m\u001b[39m*\u001b[39mnp\u001b[39m.\u001b[39marange(all_scores_mean2\u001b[39m.\u001b[39mshape[\u001b[39m0\u001b[39m]), all_scores_mean2, label\u001b[39m=\u001b[39m\u001b[39m'\u001b[39m\u001b[39m2 parallel evaluations\u001b[39m\u001b[39m'\u001b[39m)\n\u001b[1;32m      3\u001b[0m plt\u001b[39m.\u001b[39mplot(\u001b[39m4\u001b[39m\u001b[39m*\u001b[39mnp\u001b[39m.\u001b[39marange(all_scores_mean4\u001b[39m.\u001b[39mshape[\u001b[39m0\u001b[39m]), all_scores_mean4, label\u001b[39m=\u001b[39m\u001b[39m'\u001b[39m\u001b[39m4 parallel evaluations\u001b[39m\u001b[39m'\u001b[39m)\n",
      "\u001b[0;31mNameError\u001b[0m: name 'plt' is not defined"
     ]
    }
   ],
   "source": [
    "plt.plot(np.arange(250-n_init), all_scores_mean1, label='1 parallel evaluation')\n",
    "plt.plot(2*np.arange(all_scores_mean2.shape[0]), all_scores_mean2, label='2 parallel evaluations')\n",
    "plt.plot(4*np.arange(all_scores_mean4.shape[0]), all_scores_mean4, label='4 parallel evaluations')\n",
    "plt.plot(8*np.arange(all_scores_mean8.shape[0]), all_scores_mean8, label='8 parallel evaluations')\n",
    "\n",
    "plt.title('The effect of parallization on sample efficiency')\n",
    "plt.axhline(y=0., color='gray', linestyle=':')\n",
    "plt.ylabel('Score')\n",
    "plt.xlabel('Evaluations')\n",
    "plt.legend()\n",
    "plt.tight_layout()\n",
    "plt.show()"
   ]
  },
  {
   "attachments": {},
   "cell_type": "markdown",
   "metadata": {},
   "source": [
    "## GP-Expected Improvement\n",
    "As a baseline, we compare TuRBO to qEI"
   ]
  },
  {
   "cell_type": "code",
   "execution_count": null,
   "metadata": {},
   "outputs": [],
   "source": [
    "60 * 9, 80*9"
   ]
  },
  {
   "cell_type": "code",
   "execution_count": null,
   "metadata": {},
   "outputs": [],
   "source": [
    "len(Y_turbo)"
   ]
  },
  {
   "cell_type": "code",
   "execution_count": null,
   "metadata": {},
   "outputs": [],
   "source": [
    "# for i in range(10):    \n",
    "#     torch.manual_seed(i)\n",
    "\n",
    "#     X_ei = get_initial_points(dim, n_init)\n",
    "#     Y_ei = torch.tensor(\n",
    "#         [eval_objective(x) for x in X_ei], dtype=dtype, device=device\n",
    "#     ).unsqueeze(-1)\n",
    "#     best_scores = []\n",
    "\n",
    "#     NUM_RESTARTS = 10 if not SMOKE_TEST else 2\n",
    "#     RAW_SAMPLES = 512 if not SMOKE_TEST else 4\n",
    "#     N_CANDIDATES = min(6000, max(2000, 200 * dim)) if not SMOKE_TEST else 4\n",
    "\n",
    "#     while len(Y_ei) < 130:\n",
    "#         train_Y = (Y_ei - Y_ei.mean()) / Y_ei.std()\n",
    "#         likelihood = GaussianLikelihood(noise_constraint=Interval(1e-8, 1e-3))\n",
    "#         covar_module = ScaleKernel(  # Use the same lengthscale prior as in the TuRBO paper\n",
    "#             MaternKernel(\n",
    "#                 nu=2.5, ard_num_dims=dim, lengthscale_constraint=Interval(0.005, 4.0)\n",
    "#             )\n",
    "#         )\n",
    "#         model = SingleTaskGP(X_ei, train_Y, covar_module=covar_module, likelihood=likelihood)\n",
    "#         mll = ExactMarginalLogLikelihood(model.likelihood, model)\n",
    "#         fit_gpytorch_mll(mll)\n",
    "\n",
    "#         # Create a batch\n",
    "#         ei = qExpectedImprovement(model, train_Y.max())\n",
    "#         candidate, acq_value = optimize_acqf(\n",
    "#             ei,\n",
    "#             bounds=torch.stack(\n",
    "#                 [\n",
    "#                     torch.zeros(dim, dtype=dtype, device=device),\n",
    "#                     torch.ones(dim, dtype=dtype, device=device),\n",
    "#                 ]\n",
    "#             ),\n",
    "#             q=batch_size,\n",
    "#             num_restarts=NUM_RESTARTS,\n",
    "#             raw_samples=RAW_SAMPLES,\n",
    "#         )\n",
    "#         Y_next = torch.tensor(\n",
    "#             [eval_objective(x) for x in candidate], dtype=dtype, device=device\n",
    "#         ).unsqueeze(-1)\n",
    "\n",
    "#         # Append data\n",
    "#         X_ei = torch.cat((X_ei, candidate), axis=0)\n",
    "#         Y_ei = torch.cat((Y_ei, Y_next), axis=0)\n",
    "\n",
    "#         # Print current status\n",
    "#         best_scores.append(Y_ei.max().item())\n",
    "#         # print(f\"{len(X_ei)}) Best value: {Y_ei.max().item():.2e}\")\n",
    "\n",
    "#     best_scores = np.array(best_scores)\n",
    "#     plt.plot(range(best_scores.shape[0]), best_scores)\n",
    "#     plt.scatter(best_scores.shape[0], best_scores[-1], color='black')\n",
    "\n",
    "# plt.show()"
   ]
  },
  {
   "cell_type": "code",
   "execution_count": null,
   "metadata": {},
   "outputs": [],
   "source": []
  }
 ],
 "metadata": {
  "kernelspec": {
   "display_name": "Python 3",
   "language": "python",
   "name": "python3"
  },
  "language_info": {
   "codemirror_mode": {
    "name": "ipython",
    "version": 3
   },
   "file_extension": ".py",
   "mimetype": "text/x-python",
   "name": "python",
   "nbconvert_exporter": "python",
   "pygments_lexer": "ipython3",
   "version": "3.11.5"
  },
  "orig_nbformat": 4
 },
 "nbformat": 4,
 "nbformat_minor": 2
}
