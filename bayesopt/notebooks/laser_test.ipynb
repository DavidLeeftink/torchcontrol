{
 "cells": [
  {
   "attachments": {},
   "cell_type": "markdown",
   "metadata": {},
   "source": [
    "# Scalable Constrained Bayesian Optimization (SCBO)\n",
    " Scalable Constrained Bayesian Optimization (SCBO) [1] in a closed loop in BoTorch.\n",
    " \n",
    "[1]: David Eriksson and Matthias Poloczek. Scalable constrained Bayesian optimization. In International Conference on Artificial Intelligence and Statistics, pages 730–738. PMLR, 2021.\n",
    "(https://doi.org/10.48550/arxiv.2002.08526)\n",
    "\n",
    "Since SCBO is essentially a constrained version of Trust Region Bayesian Optimization (TuRBO), this tutorial shares much of the same code as the TuRBO Tutorial (https://botorch.org/tutorials/turbo_1) with small modifications made to implement SCBO."
   ]
  },
  {
   "cell_type": "code",
   "execution_count": 10,
   "metadata": {},
   "outputs": [],
   "source": [
    "import math\n",
    "import os\n",
    "import warnings\n",
    "from dataclasses import dataclass\n",
    "import numpy as np\n",
    "import matplotlib.pyplot as plt\n",
    "import gpytorch\n",
    "import torch\n",
    "from gpytorch.constraints import Interval\n",
    "from gpytorch.kernels import MaternKernel, ScaleKernel\n",
    "from gpytorch.likelihoods import GaussianLikelihood\n",
    "from gpytorch.mlls import ExactMarginalLogLikelihood\n",
    "from torch import Tensor\n",
    "from torch.quasirandom import SobolEngine\n",
    "\n",
    "from botorch.fit import fit_gpytorch_mll\n",
    "# Constrained Max Posterior Sampling s a new sampling class, similar to MaxPosteriorSampling,\n",
    "# which implements the constrained version of Thompson Sampling described in [1].\n",
    "from botorch.generation.sampling import ConstrainedMaxPosteriorSampling\n",
    "from botorch.models import SingleTaskGP\n",
    "from botorch.models.model_list_gp_regression import ModelListGP\n",
    "from botorch.models.transforms.outcome import Standardize\n",
    "from botorch.test_functions import Ackley, Rosenbrock, Levy\n",
    "from botorch.utils.transforms import unnormalize\n",
    "from botorch.test_functions import SyntheticTestFunction\n",
    "from botorch.test_functions.base import BaseTestProblem, ConstrainedBaseTestProblem\n",
    "from typing import List, Optional, Tuple, Union\n",
    "\n",
    "warnings.filterwarnings(\"ignore\")\n",
    "\n",
    "device = torch.device(\"cuda\" if torch.cuda.is_available() else \"cpu\")\n",
    "dtype = torch.double\n",
    "tkwargs = {\"device\": device, \"dtype\": dtype}\n",
    "\n",
    "SMOKE_TEST = os.environ.get(\"SMOKE_TEST\")"
   ]
  },
  {
   "attachments": {},
   "cell_type": "markdown",
   "metadata": {},
   "source": [
    "## Simple quadratic problem with known constraints"
   ]
  },
  {
   "cell_type": "code",
   "execution_count": 11,
   "metadata": {},
   "outputs": [],
   "source": [
    "# Here we define the example 10D Ackley function\n",
    "fun = Ackley(dim=2, negate=True).to(**tkwargs)\n",
    "fun.bounds[0, :].fill_(0.)\n",
    "fun.bounds[1, :].fill_(10)\n",
    "dim = fun.dim\n",
    "lb, ub = fun.bounds\n",
    "\n",
    "batch_size = 1\n",
    "n_init = 160\n",
    "max_cholesky_size = float(\"inf\")  # Always use Cholesky\n",
    "\n",
    "# When evaluating the function, we must first unnormalize the inputs since\n",
    "# we will use normalized inputs x in the main optimizaiton loop\n",
    "def eval_objective(x):\n",
    "    \"\"\"This is a helper function we use to unnormalize and evalaute a point\"\"\"\n",
    "    return fun(unnormalize(x, fun.bounds))"
   ]
  },
  {
   "cell_type": "code",
   "execution_count": 12,
   "metadata": {},
   "outputs": [
    {
     "data": {
      "image/png": "[encoded data removed]",
      "text/plain": [
       "<Figure size 640x480 with 1 Axes>"
      ]
     },
     "metadata": {},
     "output_type": "display_data"
    }
   ],
   "source": [
    "xs, ys = np.arange(0, 10, 1e-2), np.arange(0,10, 1e-2)\n",
    "X, Y = np.meshgrid(xs, ys)\n",
    "Z = fun(torch.tensor([np.ravel(X),np.ravel(Y)]).T).reshape(X.shape)\n",
    "\n",
    "fig, ax = plt.subplots()\n",
    "surf = ax.contourf(X, Y, Z, cmap=plt.cm.coolwarm)\n",
    "plt.show()"
   ]
  },
  {
   "cell_type": "markdown",
   "metadata": {},
   "source": [
    "### Defining two simple constraint functions\n",
    "\n",
    "#### We'll use two constraints functions: c1 and c2 \n",
    "We want to find solutions which maximize the above Ackley objective subject to the constraint that \n",
    "c1(x) <= 0 and c2(x) <= 0 \n",
    "Note that SCBO expects all constraints to be of the for c(x) <= 0, so any other desired constraints must be modified to fit this form. \n",
    "\n",
    "Note also that while the below constraints are very simple functions, the point of this tutorial is to show how to use SCBO, and this same implementation could be applied in the same way if c1, c2 were actually complex black-box functions. \n"
   ]
  },
  {
   "cell_type": "code",
   "execution_count": 141,
   "metadata": {},
   "outputs": [],
   "source": [
    "def c1_known(x):   # x * y <= 4.\n",
    "    return x[0]*x[1] - 4.\n",
    "\n",
    "def c2_known(x):  # Equivalent to enforcing that ||x||_2 <= 5\n",
    "    return x[1] - 2.\n",
    "\n",
    "\n",
    "# We assume c1, c2 have same bounds as the Ackley function above\n",
    "def eval_c1_known(x):\n",
    "    \"\"\"This is a helper function we use to unnormalize and evalaute a point\"\"\"\n",
    "    return c1_known(unnormalize(x, fun.bounds))\n",
    "\n",
    "\n",
    "def eval_c2_known(x):\n",
    "    \"\"\"This is a helper function we use to unnormalize and evalaute a point\"\"\"\n",
    "    return c2_known(unnormalize(x, fun.bounds))\n",
    "\n",
    "\n",
    "known_constraints = [c1_known, c2_known]\n",
    "eval_known_constraints = [eval_c1_known, eval_c2_known]"
   ]
  },
  {
   "cell_type": "code",
   "execution_count": 147,
   "metadata": {},
   "outputs": [],
   "source": [
    "def c3_unknown(x):  \n",
    "    return x[0]**2 / 4 - x[0]**3 / 5\n",
    "\n",
    "# We assume c1, c2 have same bounds as the Ackley function above\n",
    "def eval_c3_unknown(x):\n",
    "    \"\"\"This is a helper function we use to unnormalize and evalaute a point\"\"\"\n",
    "    return c3_unknown(unnormalize(x, fun.bounds))\n",
    "\n",
    "\n",
    "unknown_constraints = [eval_c3_unknown]"
   ]
  },
  {
   "cell_type": "code",
   "execution_count": 148,
   "metadata": {},
   "outputs": [
    {
     "name": "stdout",
     "output_type": "stream",
     "text": [
      "/Users/david.leeftink/Vscode_repositories/torchcontrol/bayesopt/notebooks\n",
      "/Users/david.leeftink/Vscode_repositories/torchcontrol/bayesopt/notebooks\n"
     ]
    }
   ],
   "source": [
    "import os\n",
    "import sys\n",
    "print(os.getcwd())\n",
    "one_level_up_dir = os.path.abspath(os.path.join(os.getcwd(), \"../\"))\n",
    "sys.path.append(one_level_up_dir)\n",
    "print(os.getcwd())"
   ]
  },
  {
   "cell_type": "code",
   "execution_count": 149,
   "metadata": {},
   "outputs": [
    {
     "name": "stdout",
     "output_type": "stream",
     "text": [
      "ScboState(dim=2, batch_size=1, length=0.4, length_min=0.0078125, length_max=1.6, failure_counter=0, failure_tolerance=4, success_counter=0, success_tolerance=5, best_value=-inf, best_constraint_values=tensor([inf, inf], dtype=torch.float64), restart_triggered=False)\n"
     ]
    }
   ],
   "source": [
    "# from SCBO import ScboState\n",
    "\n",
    "from SCBO import *\n",
    "\n",
    "# Define example state\n",
    "state = ScboState(dim=dim, batch_size=batch_size)\n",
    "print(state)"
   ]
  },
  {
   "cell_type": "markdown",
   "metadata": {},
   "source": [
    "### Generate Initial Points\n",
    "\n",
    "Here we define a simple method to generate a set of random initial datapoints that we will use to kick-off optimization. "
   ]
  },
  {
   "cell_type": "code",
   "execution_count": null,
   "metadata": {},
   "outputs": [],
   "source": []
  },
  {
   "cell_type": "code",
   "execution_count": 150,
   "metadata": {},
   "outputs": [],
   "source": [
    "def get_initial_points(dim, n_pts, seed=10):\n",
    "    sobol = SobolEngine(dimension=dim, scramble=True, seed=seed)\n",
    "    accepted_samples = []\n",
    "    while len(accepted_samples)<n_pts:\n",
    "        X_init = sobol.draw(n=1).to(dtype=dtype, device=device)\n",
    "        feasibles = np.array([c(X_init[0])<=0. for c in eval_known_constraints])\n",
    "        feasible = feasibles.sum() == feasibles.shape[0]\n",
    "        if feasible:\n",
    "            accepted_samples.append(X_init)\n",
    "    return accepted_samples"
   ]
  },
  {
   "cell_type": "code",
   "execution_count": 172,
   "metadata": {},
   "outputs": [
    {
     "data": {
      "text/plain": [
       "[<matplotlib.lines.Line2D at 0x2bd220610>]"
      ]
     },
     "execution_count": 172,
     "metadata": {},
     "output_type": "execute_result"
    },
    {
     "data": {
      "image/png": "[encoded data removed]",
      "text/plain": [
       "<Figure size 640x480 with 1 Axes>"
      ]
     },
     "metadata": {},
     "output_type": "display_data"
    }
   ],
   "source": [
    "list_output = get_initial_points(dim=2, n_pts=5)\n",
    "X_init = torch.cat(list_output, dim=0)\n",
    "X_init = unnormalize(X_init, fun.bounds)\n",
    "xs, ys = np.arange(0, 10, 1e-1), np.arange(0,10, 1e-1)\n",
    "X, Y = np.meshgrid(xs, ys)\n",
    "Z = fun(torch.tensor([np.ravel(X),np.ravel(Y)]).T).reshape(X.shape)\n",
    "\n",
    "fig, ax = plt.subplots(1,1)\n",
    "surf = ax.contourf(X, Y, Z, cmap=plt.cm.coolwarm, alpha=0.9)\n",
    "# ax.axhline(y=3., linestyle=':', color='black')\n",
    "\n",
    "# c1_region = lambda x: 2./x\n",
    "# region_vals = c1_region(xs[1:])\n",
    "\n",
    "# ax.plot(xs[1:], region_vals, color='black', linestyle=':')\n",
    "ax.set_xlim((0., 9.9))\n",
    "ax.set_ylim((0., 9.9))\n",
    "for i in range(len(X_init)):\n",
    "    ax.scatter(X_init[i,0], X_init[i,1], marker='x', color='black')\n",
    "\n",
    "    # print(f'{i+1} - X:{X_init[i]}, Y:{fun(X_init[i,0], X_init[i,1])}, c1: {c1(X_init[i])}, c2: {c2(X_init[i])}')\n",
    "\n",
    "# y = x - 0.1\n",
    "# plt.plot([-0.1,])\n",
    "    # return x[0] - x[1] + 0.1\n",
    "ax.axhline(y=2., linestyle=':', color='black')\n",
    "ax.plot(xs, 4/xs, linestyle=':', color='black')# x * y <= 4.\n",
    "ax.plot(xs, (xs**2/3) - (xs**2.5 / 11), linestyle=':', color='green')\n",
    "\n",
    "\n"
   ]
  },
  {
   "cell_type": "markdown",
   "metadata": {},
   "source": [
    "### Generating a batch of candidates for SCBO \n",
    "\n",
    "Just as in the TuRBO Tutorial (https://botorch.org/tutorials/turbo_1), we'll define a method generate_batch to generate a new batch of candidate points within the TuRBO trust region using Thompson sampling. \n",
    "\n",
    "The key difference here from TuRBO is that, instead of using MaxPosteriorSampling to simply grab the candidates within the trust region with the maximum posterior values, we use ConstrainedMaxPosteriorSampling to instead grab the candidates within the trust region with the maximum posterior values subject to the constraint that the posteriors for the constraint models for c1(x) and c2(x) must be less than or equal to 0 for both candidates. \n",
    "\n",
    "We use additional GPs ('constraint models') to model each black-box constraint (c1 and c2), and throw out all candidates for which the sampled value for these constraint models is greater than 0. According to [1], in the special case when all of the candidaates are predicted to be constraint violators, we select the candidate with the minimum predicted violation. (See botorch.generation.sampling.ConstrainedMaxPosteriorSampling for implementation details)."
   ]
  },
  {
   "cell_type": "code",
   "execution_count": null,
   "metadata": {},
   "outputs": [],
   "source": [
    "def generate_batch(\n",
    "    state,\n",
    "    model,  # GP model\n",
    "    X,  # Evaluated points on the domain [0, 1]^d\n",
    "    Y,  # Function values\n",
    "    C,  # Constraint values\n",
    "    batch_size,\n",
    "    n_candidates,  # Number of candidates for Thompson sampling\n",
    "    constraint_model,\n",
    "    sobol: SobolEngine,\n",
    "):\n",
    "    assert X.min() >= 0.0 and X.max() <= 1.0 and torch.all(torch.isfinite(Y))\n",
    "\n",
    "    # Create the TR bounds\n",
    "    best_ind = get_best_index_for_batch(Y=Y, C=C)\n",
    "    x_center = X[best_ind, :].clone()\n",
    "    tr_lb = torch.clamp(x_center - state.length / 2.0, 0.0, 1.0)\n",
    "    tr_ub = torch.clamp(x_center + state.length / 2.0, 0.0, 1.0)\n",
    "\n",
    "    # Thompson Sampling w/ Constraints (SCBO)\n",
    "    dim = X.shape[-1]\n",
    "    pert = sobol.draw(n_candidates).to(dtype=dtype, device=device)\n",
    "    pert = tr_lb + (tr_ub - tr_lb) * pert\n",
    "\n",
    "    # Create a perturbation mask\n",
    "    prob_perturb = min(20.0 / dim, 1.0)\n",
    "    mask = torch.rand(n_candidates, dim, **tkwargs) <= prob_perturb\n",
    "    ind = torch.where(mask.sum(dim=1) == 0)[0]\n",
    "    mask[ind, torch.randint(0, dim - 1, size=(len(ind),), device=device)] = 1\n",
    "\n",
    "    # Create candidate points from the perturbations and the mask\n",
    "    X_cand = x_center.expand(n_candidates, dim).clone()\n",
    "    X_cand[mask] = pert[mask]\n",
    "\n",
    "    # Sample on the candidate points using Constrained Max Posterior Sampling\n",
    "    constrained_thompson_sampling = ConstrainedMaxPosteriorSampling(\n",
    "        model=model, constraint_model=constraint_model, replacement=False\n",
    "    )\n",
    "    with torch.no_grad():\n",
    "        X_next = constrained_thompson_sampling(X_cand, num_samples=batch_size)\n",
    "\n",
    "    return X_next"
   ]
  },
  {
   "cell_type": "markdown",
   "metadata": {},
   "source": [
    "## Main Optimization Loop"
   ]
  },
  {
   "cell_type": "code",
   "execution_count": null,
   "metadata": {},
   "outputs": [],
   "source": [
    "# Generate initial data\n",
    "torch.set_printoptions(sci_mode=False)\n",
    "train_X = get_initial_points(dim, n_init)\n",
    "print(train_X)\n",
    "assert 1==2, \"\"\n",
    "\n",
    "# good_starter = torch.Tensor([[0.3111, 0.3134, 0.3244, 0.3441, 0.3747, 0.2913, 0.3257, 0.3519, 0.3213, 0.3261]])\n",
    "# train_X = torch.cat((train_X, good_starter))\n",
    "train_Y = torch.tensor([eval_objective(x) for x in train_X], **tkwargs).unsqueeze(-1)\n",
    "\n",
    "\n",
    "C3 = torch.tensor([eval_c3_unknown(x) for x in train_X], **tkwargs).unsqueeze(-1)\n",
    "\n",
    "obs_std = 0.0\n",
    "\n",
    "# Initialize TuRBO state\n",
    "state = ScboState(dim, batch_size=batch_size)\n",
    "\n",
    "# Note: We use 2000 candidates here to make the tutorial run faster.\n",
    "# SCBO actually uses min(5000, max(2000, 200 * dim)) candidate points by default.\n",
    "N_CANDIDATES = min(5000, max(2000, 200 * dim)) if not SMOKE_TEST else 4\n",
    "sobol = SobolEngine(dim, scramble=True, seed=1)\n",
    "\n",
    "\n",
    "def get_fitted_model(X, Y):\n",
    "    likelihood = GaussianLikelihood(noise_constraint=Interval(1e-4, 5e-1))\n",
    "    covar_module = ScaleKernel(  # Use the same lengthscale prior as in the TuRBO paper\n",
    "        MaternKernel(nu=2.5, ard_num_dims=dim, lengthscale_constraint=Interval(0.005, 4.0))\n",
    "    )\n",
    "    model = SingleTaskGP(\n",
    "        X,\n",
    "        Y,\n",
    "        covar_module=covar_module,\n",
    "        likelihood=likelihood,\n",
    "        outcome_transform=Standardize(m=1),\n",
    "    )\n",
    "    mll = ExactMarginalLogLikelihood(model.likelihood, model)\n",
    "\n",
    "    with gpytorch.settings.max_cholesky_size(max_cholesky_size):\n",
    "        fit_gpytorch_mll(mll)\n",
    "    return model\n",
    "\n",
    "torch.manual_seed(1)\n",
    "\n",
    "all_scores = []\n",
    "while not state.restart_triggered:  # Run until TuRBO converges\n",
    "    \n",
    "    # Fit GP models for objective and constraints\n",
    "    model = get_fitted_model(train_X, train_Y)\n",
    "\n",
    "    c3_model = get_fitted_model(train_X, C3)\n",
    "\n",
    "    # Generate a batch of candidates\n",
    "    with gpytorch.settings.max_cholesky_size(max_cholesky_size):\n",
    "        X_next = generate_batch(\n",
    "            state=state,\n",
    "            model=model,\n",
    "            X=train_X,\n",
    "            Y=train_Y,\n",
    "            C=torch.cat((C1, C2), dim=-1),\n",
    "            batch_size=batch_size,\n",
    "            n_candidates=N_CANDIDATES,\n",
    "            constraint_model=ModelListGP(c3_model,),\n",
    "            sobol=sobol,\n",
    "        )\n",
    "\n",
    "    # Evaluate both the objective and constraints for the selected candidaates\n",
    "\n",
    "    Y_next = torch.tensor([eval_objective(x) for x in X_next], dtype=dtype, device=device).unsqueeze(-1)\n",
    "    Y_next += torch.randn(size=Y_next.shape) * obs_std\n",
    "\n",
    "    C_next = torch.tensor([eval_c3_unknown(x) for x in X_next], dtype=dtype, device=device).unsqueeze(-1)\n",
    "    # C_next = torch.cat([C1_next, C2_next], dim=-1)\n",
    "\n",
    "    # Update TuRBO state\n",
    "    state = update_state(state=state, Y_next=Y_next, C_next=C_next)\n",
    "\n",
    "    # Append data. Note that we append all data, even points that violate\n",
    "    # the constraints. This is so our constraint models can learn more\n",
    "    # about the constraint functions and gain confidence in where violations occur.\n",
    "    train_X = torch.cat((train_X, X_next), dim=0)\n",
    "    train_Y = torch.cat((train_Y, Y_next), dim=0)\n",
    "    C1 = torch.cat((C1, C1_next), dim=0)\n",
    "    C2 = torch.cat((C2, C2_next), dim=0)\n",
    "\n",
    "    # Print current status. Note that state.best_value is always the best\n",
    "    # objective value found so far which meets the constraints, or in the case\n",
    "    # that no points have been found yet which meet the constraints, it is the\n",
    "    # objective value of the point with the minimum constraint violation.\n",
    "    if (state.best_constraint_values <= 0).all():\n",
    "        print(f\"{len(train_X)}) Best value: {state.best_value:.2e}, TR length: {state.length:.2e}\")\n",
    "        # best_Y_idx = torch.argmax(train_Y)\n",
    "        # best_X = train_X[best_Y_idx]\n",
    "        # print(f'best solution so far X: ', {best_X}, '   score: ', torch.max(train_Y))\n",
    "    else:\n",
    "        violation = state.best_constraint_values.clamp(min=0).sum()\n",
    "        print(\n",
    "            f\"{len(train_X)}) No feasible point yet! Smallest total violation: \"\n",
    "            f\"{violation:.2e}, TR length: {state.length:.2e}\"\n",
    "        )"
   ]
  },
  {
   "cell_type": "markdown",
   "metadata": {},
   "source": [
    "### Plot Results"
   ]
  },
  {
   "cell_type": "code",
   "execution_count": null,
   "metadata": {},
   "outputs": [],
   "source": [
    "import matplotlib.pyplot as plt\n",
    "import numpy as np\n",
    "from matplotlib import rc\n",
    "\n",
    "%matplotlib inline\n",
    "\n",
    "fig, ax = plt.subplots(figsize=(8, 6))\n",
    "\n",
    "score = train_Y.clone()\n",
    "# Set infeasible to -inf\n",
    "score[~(torch.cat((C1, C2), dim=-1) <= 0).all(dim=-1)] = float(\"-inf\")\n",
    "fx = np.maximum.accumulate(score.cpu())\n",
    "plt.plot(fx, marker=\"\", lw=3)\n",
    "\n",
    "plt.plot([0, len(train_Y)], [fun.optimal_value, fun.optimal_value], \"k--\", lw=3)\n",
    "plt.ylabel(\"Function value\", fontsize=18)\n",
    "plt.xlabel(\"Number of evaluations\", fontsize=18)\n",
    "plt.title(\"10D Ackley with 2 outcome constraints\", fontsize=20)\n",
    "plt.xlim([0, len(train_Y)])\n",
    "plt.ylim([-15, 1])\n",
    "\n",
    "plt.grid(True)\n",
    "plt.show()"
   ]
  },
  {
   "cell_type": "code",
   "execution_count": null,
   "metadata": {},
   "outputs": [],
   "source": [
    "# %matplotlib notebook\n",
    "def plot(i):\n",
    "    best_idx = train_Y.argmax()\n",
    "    best_X = unnormalize(train_X[best_idx], fun.bounds)\n",
    "    print(f'best X: ', best_X)\n",
    "    print(f'c1: ', c1(best_X))\n",
    "    print(f'c2: ', c2(best_X))\n",
    "\n",
    "    xs, ys = np.arange(-10, 10, 1e-1), np.arange(-10,10, 1e-1)\n",
    "    X, Y = np.meshgrid(xs, ys)\n",
    "    Z = fun(torch.tensor([np.ravel(X),np.ravel(Y)]).T).reshape(X.shape)\n",
    "\n",
    "    fig, ax = plt.subplots(subplot_kw={'projection':'3d'})\n",
    "    surf = ax.plot_surface(X, Y, Z, cmap=plt.cm.coolwarm, alpha=0.4)\n",
    "    Z_plane = np.zeros(X.shape) - 15 + 15*(X-Y> 0.)\n",
    "    # ax.plot_surface(X, Y, Z_plane, color='green', alpha=0.3)\n",
    "    ax.view_init(60, 80)\n",
    "\n",
    "    unnormalized_train_X = unnormalize(train_X, bounds=fun.bounds)\n",
    "    return ax\n",
    "for i in range(8, len(train_X)):\n",
    "    ax = plot(i)\n",
    "    for j in range(0, i):\n",
    "        ax.scatter(unnormalized_train_X[j,0], unnormalized_train_X[j,1],train_Y[j], marker='x', color=plt.cm.plasma(j/len(train_X)))\n",
    "\n",
    "    plt.show()\n",
    "ax.scatter(best_X[0], best_X[1], train_Y[best_idx], marker='x', color='black')\n",
    "plt.show()"
   ]
  },
  {
   "cell_type": "code",
   "execution_count": null,
   "metadata": {},
   "outputs": [],
   "source": [
    "c1_model(train_X[best_idx][None])"
   ]
  },
  {
   "cell_type": "code",
   "execution_count": null,
   "metadata": {},
   "outputs": [],
   "source": []
  }
 ],
 "metadata": {
  "kernelspec": {
   "display_name": "Python 3 (ipykernel)",
   "language": "python",
   "name": "python3"
  },
  "language_info": {
   "codemirror_mode": {
    "name": "ipython",
    "version": 3
   },
   "file_extension": ".py",
   "mimetype": "text/x-python",
   "name": "python",
   "nbconvert_exporter": "python",
   "pygments_lexer": "ipython3",
   "version": "3.11.5"
  },
  "vscode": {
   "interpreter": {
    "hash": "9beb4c3e6521665a47c2b1e65f245d1b2309f4194f15ed6955f5e52622a9d29e"
   }
  }
 },
 "nbformat": 4,
 "nbformat_minor": 2
}
